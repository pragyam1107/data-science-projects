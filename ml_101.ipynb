{
 "cells": [
  {
   "cell_type": "code",
   "execution_count": 22,
   "metadata": {
    "scrolled": true
   },
   "outputs": [
    {
     "name": "stdout",
     "output_type": "stream",
     "text": [
      "reading and processing emails from train\n",
      "training models\n",
      "finished\n",
      "1.0\n"
     ]
    }
   ],
   "source": [
    "import os\n",
    "import numpy as np\n",
    "from collections import Counter\n",
    "from sklearn.naive_bayes import GaussianNB\n",
    "from sklearn.metrics import accuracy_score\n",
    "rr=\"C:\\\\Users\\pragy\\Downloads\\machine-learning-101-master\\chapter1\\\\train-mails\"\n",
    "rs=\"C:\\\\Users\\pragy\\Downloads\\machine-learning-101-master\\chapter1\\\\test-mails\"\n",
    "def make_Dictionary(root):\n",
    "    \n",
    "    all_words = []\n",
    "    emails = [os.path.join(root,f) for f in os.listdir(root)]\n",
    "    \n",
    "    for mail in emails:\n",
    "        with open(mail) as m:\n",
    "            for line in m:\n",
    "                words = line.split()\n",
    "                all_words += words\n",
    "    dictionary = Counter(all_words)\n",
    "    list_to_remove = dictionary.keys()\n",
    "    for item in list_to_remove:\n",
    "        if item.isalpha() == False:\n",
    "            del item\n",
    "        elif len(item) == 1:\n",
    "            del item\n",
    "    dictionary = dictionary.most_common(3000)\n",
    "    return dictionary\n",
    "   \n",
    "def extract_features(mail):\n",
    "    files=[os.path.join(mail,fi) for fi in os.listdir(mail)]\n",
    "    features_matrix=np.zeros((len(files),3000))\n",
    "    train_labels=np.zeros(len(files))\n",
    "    count=0;\n",
    "    docID=0;\n",
    "    for fil in files:\n",
    "        with open(fil) as fi:\n",
    "            for i, line in enumerate(fi):\n",
    "                if i==2:\n",
    "                    words=line.split()\n",
    "                    for word in words:\n",
    "                        wordID=0\n",
    "                        for i, d in enumerate(dictionary):\n",
    "                            if d[0]==word:\n",
    "                                wordID=i\n",
    "                                features_matrix[docID,wordID]=words.count(word)\n",
    "            train_labels[docID]=0;\n",
    "            filepathTokens=fil.split('/')\n",
    "            lastToken=filepathTokens[len(filepathTokens)-1]\n",
    "            if lastToken.startswith(\"spmsg\"):\n",
    "                train_labels[docID]=1;\n",
    "                count=count+1\n",
    "            docID=docID+1\n",
    "        return features_matrix, train_labels\n",
    "dictionary=make_Dictionary(rr)\n",
    "print(\"reading and processing emails from train\")\n",
    "features_matrix, labels=extract_features(rr)\n",
    "\n",
    "test_features_matrix, test_labels=extract_features(rs);\n",
    "model=GaussianNB()\n",
    "print(\"training models\")\n",
    "model.fit(features_matrix, labels)\n",
    "predicted_labels=model.predict(test_features_matrix)\n",
    "print(\"finished\")\n",
    "print (accuracy_score(test_labels,predicted_labels))"
   ]
  },
  {
   "cell_type": "code",
   "execution_count": null,
   "metadata": {},
   "outputs": [],
   "source": []
  },
  {
   "cell_type": "code",
   "execution_count": null,
   "metadata": {},
   "outputs": [],
   "source": []
  },
  {
   "cell_type": "code",
   "execution_count": null,
   "metadata": {},
   "outputs": [],
   "source": []
  },
  {
   "cell_type": "code",
   "execution_count": null,
   "metadata": {},
   "outputs": [],
   "source": []
  },
  {
   "cell_type": "code",
   "execution_count": null,
   "metadata": {},
   "outputs": [],
   "source": []
  },
  {
   "cell_type": "code",
   "execution_count": null,
   "metadata": {},
   "outputs": [],
   "source": []
  },
  {
   "cell_type": "code",
   "execution_count": null,
   "metadata": {},
   "outputs": [],
   "source": []
  },
  {
   "cell_type": "code",
   "execution_count": null,
   "metadata": {},
   "outputs": [],
   "source": []
  },
  {
   "cell_type": "code",
   "execution_count": null,
   "metadata": {},
   "outputs": [],
   "source": []
  },
  {
   "cell_type": "code",
   "execution_count": null,
   "metadata": {},
   "outputs": [],
   "source": []
  },
  {
   "cell_type": "code",
   "execution_count": null,
   "metadata": {},
   "outputs": [],
   "source": []
  },
  {
   "cell_type": "code",
   "execution_count": null,
   "metadata": {},
   "outputs": [],
   "source": []
  },
  {
   "cell_type": "code",
   "execution_count": null,
   "metadata": {},
   "outputs": [],
   "source": []
  },
  {
   "cell_type": "code",
   "execution_count": null,
   "metadata": {},
   "outputs": [],
   "source": []
  },
  {
   "cell_type": "code",
   "execution_count": null,
   "metadata": {},
   "outputs": [],
   "source": []
  },
  {
   "cell_type": "code",
   "execution_count": null,
   "metadata": {},
   "outputs": [],
   "source": []
  },
  {
   "cell_type": "code",
   "execution_count": null,
   "metadata": {},
   "outputs": [],
   "source": []
  },
  {
   "cell_type": "code",
   "execution_count": null,
   "metadata": {},
   "outputs": [],
   "source": []
  },
  {
   "cell_type": "code",
   "execution_count": null,
   "metadata": {},
   "outputs": [],
   "source": []
  },
  {
   "cell_type": "code",
   "execution_count": null,
   "metadata": {},
   "outputs": [],
   "source": []
  },
  {
   "cell_type": "code",
   "execution_count": null,
   "metadata": {},
   "outputs": [],
   "source": []
  },
  {
   "cell_type": "code",
   "execution_count": null,
   "metadata": {},
   "outputs": [],
   "source": []
  }
 ],
 "metadata": {
  "kernelspec": {
   "display_name": "Python 3",
   "language": "python",
   "name": "python3"
  },
  "language_info": {
   "codemirror_mode": {
    "name": "ipython",
    "version": 3
   },
   "file_extension": ".py",
   "mimetype": "text/x-python",
   "name": "python",
   "nbconvert_exporter": "python",
   "pygments_lexer": "ipython3",
   "version": "3.6.4"
  }
 },
 "nbformat": 4,
 "nbformat_minor": 2
}
